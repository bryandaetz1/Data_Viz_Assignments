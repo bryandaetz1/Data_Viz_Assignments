{
  "nbformat": 4,
  "nbformat_minor": 0,
  "metadata": {
    "colab": {
      "name": "Scatterplot_Assignment1_BD.ipynb",
      "provenance": [],
      "collapsed_sections": [],
      "include_colab_link": true
    },
    "kernelspec": {
      "name": "python3",
      "display_name": "Python 3"
    }
  },
  "cells": [
    {
      "cell_type": "markdown",
      "metadata": {
        "id": "view-in-github",
        "colab_type": "text"
      },
      "source": [
        "<a href=\"https://colab.research.google.com/github/bryandaetz1/Data_Viz_Assignments/blob/main/Scatterplot_Assignment1_BD.ipynb\" target=\"_parent\"><img src=\"https://colab.research.google.com/assets/colab-badge.svg\" alt=\"Open In Colab\"/></a>"
      ]
    },
    {
      "cell_type": "code",
      "metadata": {
        "id": "Rglf0GXOXgoz"
      },
      "source": [
        "import pandas as pd\n",
        "import numpy as np\n",
        "from vega_datasets import data\n",
        "from matplotlib import pyplot as plt"
      ],
      "execution_count": 23,
      "outputs": []
    },
    {
      "cell_type": "code",
      "metadata": {
        "id": "5rvXudpr9UuA",
        "outputId": "b1aedbe1-1860-41cd-e76b-880f1c960c4f",
        "colab": {
          "base_uri": "https://localhost:8080/",
          "height": 313
        }
      },
      "source": [
        "df = data.movies()\n",
        "df.head()"
      ],
      "execution_count": 24,
      "outputs": [
        {
          "output_type": "execute_result",
          "data": {
            "text/html": [
              "<div>\n",
              "<style scoped>\n",
              "    .dataframe tbody tr th:only-of-type {\n",
              "        vertical-align: middle;\n",
              "    }\n",
              "\n",
              "    .dataframe tbody tr th {\n",
              "        vertical-align: top;\n",
              "    }\n",
              "\n",
              "    .dataframe thead th {\n",
              "        text-align: right;\n",
              "    }\n",
              "</style>\n",
              "<table border=\"1\" class=\"dataframe\">\n",
              "  <thead>\n",
              "    <tr style=\"text-align: right;\">\n",
              "      <th></th>\n",
              "      <th>Title</th>\n",
              "      <th>US Gross</th>\n",
              "      <th>Worldwide Gross</th>\n",
              "      <th>US DVD Sales</th>\n",
              "      <th>Production Budget</th>\n",
              "      <th>Release Date</th>\n",
              "      <th>MPAA Rating</th>\n",
              "      <th>Running Time min</th>\n",
              "      <th>Distributor</th>\n",
              "      <th>Source</th>\n",
              "      <th>Major Genre</th>\n",
              "      <th>Creative Type</th>\n",
              "      <th>Director</th>\n",
              "      <th>Rotten Tomatoes Rating</th>\n",
              "      <th>IMDB Rating</th>\n",
              "      <th>IMDB Votes</th>\n",
              "    </tr>\n",
              "  </thead>\n",
              "  <tbody>\n",
              "    <tr>\n",
              "      <th>0</th>\n",
              "      <td>The Land Girls</td>\n",
              "      <td>146083.0</td>\n",
              "      <td>146083.0</td>\n",
              "      <td>NaN</td>\n",
              "      <td>8000000.0</td>\n",
              "      <td>Jun 12 1998</td>\n",
              "      <td>R</td>\n",
              "      <td>NaN</td>\n",
              "      <td>Gramercy</td>\n",
              "      <td>None</td>\n",
              "      <td>None</td>\n",
              "      <td>None</td>\n",
              "      <td>None</td>\n",
              "      <td>NaN</td>\n",
              "      <td>6.1</td>\n",
              "      <td>1071.0</td>\n",
              "    </tr>\n",
              "    <tr>\n",
              "      <th>1</th>\n",
              "      <td>First Love, Last Rites</td>\n",
              "      <td>10876.0</td>\n",
              "      <td>10876.0</td>\n",
              "      <td>NaN</td>\n",
              "      <td>300000.0</td>\n",
              "      <td>Aug 07 1998</td>\n",
              "      <td>R</td>\n",
              "      <td>NaN</td>\n",
              "      <td>Strand</td>\n",
              "      <td>None</td>\n",
              "      <td>Drama</td>\n",
              "      <td>None</td>\n",
              "      <td>None</td>\n",
              "      <td>NaN</td>\n",
              "      <td>6.9</td>\n",
              "      <td>207.0</td>\n",
              "    </tr>\n",
              "    <tr>\n",
              "      <th>2</th>\n",
              "      <td>I Married a Strange Person</td>\n",
              "      <td>203134.0</td>\n",
              "      <td>203134.0</td>\n",
              "      <td>NaN</td>\n",
              "      <td>250000.0</td>\n",
              "      <td>Aug 28 1998</td>\n",
              "      <td>None</td>\n",
              "      <td>NaN</td>\n",
              "      <td>Lionsgate</td>\n",
              "      <td>None</td>\n",
              "      <td>Comedy</td>\n",
              "      <td>None</td>\n",
              "      <td>None</td>\n",
              "      <td>NaN</td>\n",
              "      <td>6.8</td>\n",
              "      <td>865.0</td>\n",
              "    </tr>\n",
              "    <tr>\n",
              "      <th>3</th>\n",
              "      <td>Let's Talk About Sex</td>\n",
              "      <td>373615.0</td>\n",
              "      <td>373615.0</td>\n",
              "      <td>NaN</td>\n",
              "      <td>300000.0</td>\n",
              "      <td>Sep 11 1998</td>\n",
              "      <td>None</td>\n",
              "      <td>NaN</td>\n",
              "      <td>Fine Line</td>\n",
              "      <td>None</td>\n",
              "      <td>Comedy</td>\n",
              "      <td>None</td>\n",
              "      <td>None</td>\n",
              "      <td>13.0</td>\n",
              "      <td>NaN</td>\n",
              "      <td>NaN</td>\n",
              "    </tr>\n",
              "    <tr>\n",
              "      <th>4</th>\n",
              "      <td>Slam</td>\n",
              "      <td>1009819.0</td>\n",
              "      <td>1087521.0</td>\n",
              "      <td>NaN</td>\n",
              "      <td>1000000.0</td>\n",
              "      <td>Oct 09 1998</td>\n",
              "      <td>R</td>\n",
              "      <td>NaN</td>\n",
              "      <td>Trimark</td>\n",
              "      <td>Original Screenplay</td>\n",
              "      <td>Drama</td>\n",
              "      <td>Contemporary Fiction</td>\n",
              "      <td>None</td>\n",
              "      <td>62.0</td>\n",
              "      <td>3.4</td>\n",
              "      <td>165.0</td>\n",
              "    </tr>\n",
              "  </tbody>\n",
              "</table>\n",
              "</div>"
            ],
            "text/plain": [
              "                        Title   US Gross  ...  IMDB Rating  IMDB Votes\n",
              "0              The Land Girls   146083.0  ...          6.1      1071.0\n",
              "1      First Love, Last Rites    10876.0  ...          6.9       207.0\n",
              "2  I Married a Strange Person   203134.0  ...          6.8       865.0\n",
              "3        Let's Talk About Sex   373615.0  ...          NaN         NaN\n",
              "4                        Slam  1009819.0  ...          3.4       165.0\n",
              "\n",
              "[5 rows x 16 columns]"
            ]
          },
          "metadata": {
            "tags": []
          },
          "execution_count": 24
        }
      ]
    },
    {
      "cell_type": "code",
      "metadata": {
        "id": "fKs_s0eK9ZbB",
        "outputId": "31afb9d3-8042-43a2-9f66-e91e2724a85f",
        "colab": {
          "base_uri": "https://localhost:8080/",
          "height": 34
        }
      },
      "source": [
        "df.shape"
      ],
      "execution_count": 25,
      "outputs": [
        {
          "output_type": "execute_result",
          "data": {
            "text/plain": [
              "(3201, 16)"
            ]
          },
          "metadata": {
            "tags": []
          },
          "execution_count": 25
        }
      ]
    },
    {
      "cell_type": "code",
      "metadata": {
        "id": "-JhMo0QU9csE",
        "outputId": "eb7c5035-2f83-4f4c-a136-c89f69980993",
        "colab": {
          "base_uri": "https://localhost:8080/",
          "height": 316
        }
      },
      "source": [
        "df.dtypes"
      ],
      "execution_count": 26,
      "outputs": [
        {
          "output_type": "execute_result",
          "data": {
            "text/plain": [
              "Title                      object\n",
              "US Gross                  float64\n",
              "Worldwide Gross           float64\n",
              "US DVD Sales              float64\n",
              "Production Budget         float64\n",
              "Release Date               object\n",
              "MPAA Rating                object\n",
              "Running Time min          float64\n",
              "Distributor                object\n",
              "Source                     object\n",
              "Major Genre                object\n",
              "Creative Type              object\n",
              "Director                   object\n",
              "Rotten Tomatoes Rating    float64\n",
              "IMDB Rating               float64\n",
              "IMDB Votes                float64\n",
              "dtype: object"
            ]
          },
          "metadata": {
            "tags": []
          },
          "execution_count": 26
        }
      ]
    },
    {
      "cell_type": "code",
      "metadata": {
        "id": "k_Cd6aEl9djC",
        "outputId": "1bdb5cbe-58bb-4fd0-eae5-1fb03cdb103a",
        "colab": {
          "base_uri": "https://localhost:8080/",
          "height": 316
        }
      },
      "source": [
        "df.isna().sum()"
      ],
      "execution_count": 27,
      "outputs": [
        {
          "output_type": "execute_result",
          "data": {
            "text/plain": [
              "Title                        1\n",
              "US Gross                     7\n",
              "Worldwide Gross              7\n",
              "US DVD Sales              2637\n",
              "Production Budget            1\n",
              "Release Date                 0\n",
              "MPAA Rating                605\n",
              "Running Time min          1992\n",
              "Distributor                232\n",
              "Source                     365\n",
              "Major Genre                275\n",
              "Creative Type              446\n",
              "Director                  1331\n",
              "Rotten Tomatoes Rating     880\n",
              "IMDB Rating                213\n",
              "IMDB Votes                 213\n",
              "dtype: int64"
            ]
          },
          "metadata": {
            "tags": []
          },
          "execution_count": 27
        }
      ]
    },
    {
      "cell_type": "code",
      "metadata": {
        "id": "5tqxuFUM9_rm",
        "outputId": "e70fc684-3a08-425e-fb0f-553b74d262b8",
        "colab": {
          "base_uri": "https://localhost:8080/",
          "height": 158
        }
      },
      "source": [
        "df['MPAA Rating'].value_counts()"
      ],
      "execution_count": 28,
      "outputs": [
        {
          "output_type": "execute_result",
          "data": {
            "text/plain": [
              "R            1194\n",
              "PG-13         865\n",
              "PG            354\n",
              "Not Rated      94\n",
              "G              79\n",
              "NC-17           8\n",
              "Open            2\n",
              "Name: MPAA Rating, dtype: int64"
            ]
          },
          "metadata": {
            "tags": []
          },
          "execution_count": 28
        }
      ]
    },
    {
      "cell_type": "code",
      "metadata": {
        "id": "Rp3EMC67-GZs"
      },
      "source": [
        "df['MPAA Rating'] = df['MPAA Rating'].str.replace('Open','Not Rated')\n",
        "df['MPAA Rating'].fillna('Not Provided', inplace = True)"
      ],
      "execution_count": 29,
      "outputs": []
    },
    {
      "cell_type": "code",
      "metadata": {
        "id": "IT6tbYzvAGDI",
        "outputId": "24ce5a54-1405-4d5c-8d04-cafc00ae8856",
        "colab": {
          "base_uri": "https://localhost:8080/",
          "height": 122
        }
      },
      "source": [
        "df['US Gross'].sort_values(ascending = False).head()"
      ],
      "execution_count": 30,
      "outputs": [
        {
          "output_type": "execute_result",
          "data": {
            "text/plain": [
              "1234    760167650.0\n",
              "2970    600788188.0\n",
              "1266    533345358.0\n",
              "912     460998007.0\n",
              "2741    441226247.0\n",
              "Name: US Gross, dtype: float64"
            ]
          },
          "metadata": {
            "tags": []
          },
          "execution_count": 30
        }
      ]
    },
    {
      "cell_type": "code",
      "metadata": {
        "id": "1vyoJMjI0xc-"
      },
      "source": [
        "df_viz = df[df['US Gross'] > 150000000].reset_index(drop = True)"
      ],
      "execution_count": 31,
      "outputs": []
    },
    {
      "cell_type": "code",
      "metadata": {
        "id": "WP5rKUjX9ej4",
        "outputId": "8a6bfd16-d795-41e9-a5c0-ee476d313d59",
        "colab": {
          "base_uri": "https://localhost:8080/",
          "height": 621
        }
      },
      "source": [
        "plt.figure(figsize=(15,10))\n",
        "\n",
        "for i, title in enumerate(df_viz['Title']):\n",
        "  if df_viz['US Gross'][i] > 430000000 and df_viz['IMDB Rating'][i] < 8.5:\n",
        "    plt.scatter(df_viz['IMDB Rating'][i], df_viz['US Gross'][i], color = 'blue')\n",
        "    plt.annotate(title, (df_viz['IMDB Rating'][i] + 0.05, df_viz['US Gross'][i] + 1000000), color = 'blue')\n",
        "  elif df_viz['US Gross'][i] > 430000000 and df_viz['IMDB Rating'][i] > 8.5:\n",
        "    plt.scatter(df_viz['IMDB Rating'][i], df_viz['US Gross'][i], color = 'blue')\n",
        "    plt.annotate(title, (df_viz['IMDB Rating'][i] - 0.15, df_viz['US Gross'][i] + 9000000), color = 'blue')\n",
        "  else:\n",
        "    plt.scatter(df_viz['IMDB Rating'][i], df_viz['US Gross'][i], color = 'grey')\n",
        "\n",
        "plt.xlabel('IMDB Rating')\n",
        "plt.ylabel('US Gross (in tens of millions)') \n",
        "plt.title('US Gross vs. IMDB Rating')\n",
        "plt.ylim(125000000, 800000000)\n",
        "plt.xlim(4, 10)\n",
        "plt.show()"
      ],
      "execution_count": 33,
      "outputs": [
        {
          "output_type": "display_data",
          "data": {
            "image/png": "[encoded data removed]",
            "text/plain": [
              "<Figure size 1080x720 with 1 Axes>"
            ]
          },
          "metadata": {
            "tags": [],
            "needs_background": "light"
          }
        }
      ]
    },
    {
      "cell_type": "code",
      "metadata": {
        "id": "hnGMPzug0o8V"
      },
      "source": [
        ""
      ],
      "execution_count": 32,
      "outputs": []
    }
  ]
}